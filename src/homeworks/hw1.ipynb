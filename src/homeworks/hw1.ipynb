{
 "cells": [
  {
   "cell_type": "markdown",
   "id": "0f4dc7a6",
   "metadata": {},
   "source": [
    "# Homework 1\n",
    "Author: Muhammad Khalid"
   ]
  },
  {
   "cell_type": "code",
   "execution_count": 63,
   "id": "3caed28c",
   "metadata": {},
   "outputs": [],
   "source": [
    "import numpy as np\n",
    "import pandas as pd"
   ]
  },
  {
   "cell_type": "markdown",
   "id": "6e85f3a9",
   "metadata": {},
   "source": [
    "## Question 1"
   ]
  },
  {
   "cell_type": "code",
   "execution_count": 64,
   "id": "aade6961",
   "metadata": {},
   "outputs": [
    {
     "name": "stdout",
     "output_type": "stream",
     "text": [
      "9.0\n",
      "5.196152422706632\n",
      "4.3267487109222245\n",
      "3.9482220388574776\n",
      "3.737192818846552\n",
      "3.6028108655280078\n",
      "3.5097924382760604\n",
      "3.441608071319631\n",
      "3.389492891729259\n"
     ]
    }
   ],
   "source": [
    "### Part A\n",
    "def minkowski(x, p, k):\n",
    "    return np.sum(np.abs(x-p) ** k) ** (1/k)\n",
    "\n",
    "### Part B\n",
    "x1 = np.array([1, 2, 3])\n",
    "x2 = np.array([4, 5, 6])\n",
    "\n",
    "# maximum coordinate-wise difference is 3\n",
    "for i in range(1, 10):\n",
    "    print(minkowski(x1, x2, i))\n",
    "\n",
    "### Part C\n",
    "x = np.array([1, 1.5, 0.5])\n",
    "p = np.array([0, 0, 0])\n",
    "k = 1\n",
    "while abs(minkowski(x, p, k)-1.5) >= 0.001:\n",
    "    k += 1"
   ]
  },
  {
   "cell_type": "markdown",
   "id": "a4397e16",
   "metadata": {},
   "source": [
    "## Question 2"
   ]
  },
  {
   "cell_type": "code",
   "execution_count": 65,
   "id": "87b3149a",
   "metadata": {},
   "outputs": [
    {
     "data": {
      "text/plain": [
       "<Axes: ylabel='Frequency'>"
      ]
     },
     "execution_count": 65,
     "metadata": {},
     "output_type": "execute_result"
    },
    {
     "data": {
      "image/png": "[encoded data removed]",
      "text/plain": [
       "<Figure size 640x480 with 1 Axes>"
      ]
     },
     "metadata": {},
     "output_type": "display_data"
    }
   ],
   "source": [
    "### Part A\n",
    "from pathlib import Path\n",
    "dir_path = Path(\"/Users/muhammadkhalid/Desktop/f2025/STA395/intro/hw1-data/timeseries\")\n",
    "lane_departures_key = pd.read_csv(\"https://remiller1450.github.io/data/lane_departures_key.csv\")\n",
    "df_list = []\n",
    "for fname in dir_path.iterdir():\n",
    "    temp = pd.read_csv(str(fname))\n",
    "    df_list.append(temp)\n",
    "\n",
    "lane_departures = pd.concat(df_list, ignore_index=True)\n",
    "\n",
    "### Part B\n",
    "final_departures = pd.merge(lane_departures, lane_departures_key, left_on=lane_departures.columns[0], right_on=lane_departures_key.columns[0], how='inner')\n",
    "\n",
    "### Part C\n",
    "max_abs_lat_distances = final_departures.groupby(['daqname', 'instance'])['lat_dist'].apply(lambda x: x.abs().max())\n",
    "\n",
    "### Part D\n",
    "max_abs_lat_distances.plot.hist()"
   ]
  },
  {
   "cell_type": "markdown",
   "id": "2576eca4",
   "metadata": {},
   "source": [
    "## Question 3"
   ]
  },
  {
   "cell_type": "code",
   "execution_count": 66,
   "id": "2797b4f1",
   "metadata": {},
   "outputs": [],
   "source": [
    "### Part A\n",
    "# obs 1 - 3\n",
    "# obs 2 - 2\n",
    "# obs 3 - 3.16\n",
    "# obs 4 - 2.24\n",
    "# obs 5 - 1.41\n",
    "# obs 6 - 1.73\n",
    "\n",
    "### Part B\n",
    "# If we use k=1, we only consider the class of the nearest neighbor. From the previous calculation we know \n",
    "# that the closest point using uniform weighting is 1.41 whose class is Green. Therefore, our predicted \n",
    "# class will be green.\n",
    "\n",
    "### Part C\n",
    "# For k=3 and uniform weighting, we pick the 3 closest neighbors i.e. obs 5, 6, 2. Out of these only \n",
    "# one is Green which means the predicted probability would be 1/3.\n",
    "\n",
    "### Part D\n",
    "# Yes, it would be higher because distance weighting tends to give more important to points that are close by \n",
    "# compared to uniform weighting which gives equal preference to all points. Since Obs. 5 is the closest point\n",
    "# and is green, it will have a disproportionately larger imapact than the other 2 closest points which are red.\n",
    "\n",
    "### Part E\n",
    "# Means:\n",
    "#   X_1 - 1/3\n",
    "#   X_2 - 1\n",
    "#   X_3 - 1.167\n",
    "\n",
    "# StdDevs\n",
    "# X_1 - 0.94\n",
    "# X_2 - 1\n",
    "# X_3 - 1.06\n",
    "\n",
    "# Standardized table values\n",
    "# obs 1:  −0.35, 2, -1.10\n",
    "# obs 2:  1.77, -1, -1.10\n",
    "# obs 3:  −0.35, 0, 1.73\n",
    "# obs 4:  −0.35, 0, 0.79\n",
    "# obs 5:  −1.41, -1, −0.16\n",
    "# obs 6:  0.69, 0, −0.16\n",
    "\n",
    "# Standardized test value\n",
    "# {−0.35, -1, −1.10}\n",
    "\n",
    "# Distances\n",
    "# obs 1 - 3\n",
    "# obs 2 - 2.12\n",
    "# obs 3 - 3\n",
    "# obs 4 - 2.14\n",
    "# obs 5 - 1.41\n",
    "# obs 6 - 1.72\n",
    "\n",
    "# Obs 2, 5, 6 are still the closest to the standardized test data point. \n",
    "# The predicted probability that the data point is green is 1/3 because \n",
    "# there's only one Green point out of the 3 closest data points"
   ]
  },
  {
   "cell_type": "markdown",
   "id": "19bbd1c3",
   "metadata": {},
   "source": [
    "## Question 4"
   ]
  },
  {
   "cell_type": "code",
   "execution_count": 67,
   "id": "56b4e6d5",
   "metadata": {},
   "outputs": [
    {
     "data": {
      "text/plain": [
       "Text(0, 0.5, 'RMSE')"
      ]
     },
     "execution_count": 67,
     "metadata": {},
     "output_type": "execute_result"
    },
    {
     "data": {
      "image/png": "[encoded data removed]",
      "text/plain": [
       "<Figure size 640x480 with 1 Axes>"
      ]
     },
     "metadata": {},
     "output_type": "display_data"
    }
   ],
   "source": [
    "### Part A\n",
    "from sklearn.model_selection import train_test_split\n",
    "from sklearn.pipeline import Pipeline\n",
    "from sklearn.preprocessing import StandardScaler\n",
    "from sklearn.neighbors import KNeighborsRegressor\n",
    "import matplotlib.pyplot as plt\n",
    "from sklearn.metrics import mean_squared_error\n",
    "\n",
    "ozone = pd.read_csv(\"https://remiller1450.github.io/data/Ozone.csv\")\n",
    "\n",
    "# Split the data\n",
    "oz_train, oz_test = train_test_split(ozone, test_size=0.2, random_state=3)\n",
    "oz_train_y = oz_train['Ozone']\n",
    "oz_train_X = oz_train.select_dtypes(\"number\").drop(['Ozone', 'Day'], axis=1)\n",
    "oz_test_X = oz_test.select_dtypes(\"number\").drop(['Ozone', 'Day'], axis=1)\n",
    "oz_test_y = oz_test['Ozone']\n",
    "\n",
    "def pipeline(k):\n",
    "    knn_pipeline = Pipeline([\n",
    "        (\"scaler\", StandardScaler()),\n",
    "        (\"regressor\", KNeighborsRegressor(n_neighbors=k))\n",
    "    ])\n",
    "    knn_model = knn_pipeline.fit(oz_train_X, oz_train_y)\n",
    "    return np.sqrt(mean_squared_error(oz_train_y, knn_model.predict(oz_train_X)))\n",
    "\n",
    "### Part B\n",
    "rmse_values = []\n",
    "\n",
    "for i in range(5, 36, 5):\n",
    "    rmse_values.append(pipeline(i))\n",
    "\n",
    "plt.plot(range(5, 36, 5), rmse_values)\n",
    "plt.xlabel(\"k values\")\n",
    "plt.ylabel(\"RMSE\")\n"
   ]
  },
  {
   "cell_type": "code",
   "execution_count": 68,
   "id": "20362622",
   "metadata": {},
   "outputs": [
    {
     "data": {
      "image/png": "[encoded data removed]",
      "text/plain": [
       "<Figure size 640x480 with 1 Axes>"
      ]
     },
     "metadata": {},
     "output_type": "display_data"
    }
   ],
   "source": [
    "### Part C\n",
    "from sklearn.model_selection import GridSearchCV\n",
    "\n",
    "# Same as in part B\n",
    "q4c_pipeline = Pipeline([\n",
    "    (\"scaler\", StandardScaler()),\n",
    "    (\"model\", KNeighborsRegressor())\n",
    "])\n",
    "\n",
    "my_params = {\n",
    "    'scaler': [StandardScaler()],\n",
    "    'model__n_neighbors': range(5, 36, 5)\n",
    "    }\n",
    "\n",
    "grid_results = GridSearchCV(\n",
    "    q4c_pipeline,\n",
    "    my_params,\n",
    "    cv=5,\n",
    "    scoring='neg_root_mean_squared_error',\n",
    "    return_train_score=True\n",
    ").fit(oz_train_X, oz_train_y)\n",
    "params_to_print = ['rank_test_score', 'param_model__n_neighbors', 'mean_test_score']\n",
    "cv_results = pd.DataFrame(grid_results.cv_results_).sort_values(by='rank_test_score')[params_to_print]\n",
    "cv_results[\"mean_test_score\"] = abs(cv_results[\"mean_test_score\"])\n",
    "\n",
    "plt.plot(cv_results[\"param_model__n_neighbors\"], cv_results[\"mean_test_score\"], label=\"Cross-Validated data\")\n",
    "plt.plot(range(5, 36, 5), rmse_values, label=\"Training data\")\n",
    "plt.xlabel(\"k values\")\n",
    "plt.ylabel(\"RMSE\")\n",
    "plt.legend()\n",
    "plt.show()"
   ]
  },
  {
   "cell_type": "code",
   "execution_count": 69,
   "id": "a096c496",
   "metadata": {},
   "outputs": [
    {
     "name": "stdout",
     "output_type": "stream",
     "text": [
      "Best hyperparameters: {'model__max_depth': 3, 'model__min_samples_split': 2}\n",
      "Cross-validated RMSE: 20.361309124618007\n"
     ]
    }
   ],
   "source": [
    "### Part D\n",
    "from sklearn.tree import DecisionTreeRegressor\n",
    "q4_pipeline = Pipeline([\n",
    "    (\"model\", DecisionTreeRegressor())\n",
    "])\n",
    "\n",
    "my_params = {'model__max_depth': list(range(2, 7)), 'model__min_samples_split': list(range(2, 7))}\n",
    "\n",
    "grid_results = GridSearchCV(\n",
    "    q4_pipeline,\n",
    "    my_params,\n",
    "    cv=5,\n",
    "    scoring='neg_root_mean_squared_error',\n",
    "    return_train_score=True\n",
    ").fit(oz_train_X, oz_train_y)\n",
    "dt_best_params = grid_results.best_params_\n",
    "\n",
    "print(\"Best hyperparameters:\", grid_results.best_params_)\n",
    "print(\"Cross-validated RMSE:\", -grid_results.best_score_)\n"
   ]
  },
  {
   "cell_type": "code",
   "execution_count": 70,
   "id": "347d3f24",
   "metadata": {},
   "outputs": [
    {
     "name": "stdout",
     "output_type": "stream",
     "text": [
      "KNN: 15.974980438172686\n",
      "Decision tree: 19.155868246702475\n"
     ]
    }
   ],
   "source": [
    "### Part E\n",
    "q4e_knn_pipeline = Pipeline([\n",
    "    (\"scaler\", StandardScaler()),\n",
    "    (\"model\", KNeighborsRegressor(n_neighbors=knn_best_params['model__n_neighbors']))\n",
    "])\n",
    "final_fitted_knn = q4e_knn_pipeline.fit(oz_train_X, oz_train_y)\n",
    "print(f\"KNN: {np.sqrt(mean_squared_error(oz_test_y, final_fitted_knn.predict(oz_test_X)))}\")\n",
    "\n",
    "q4e_dt_pipeline = Pipeline([\n",
    "    (\"model\", DecisionTreeRegressor(max_depth=dt_best_params['model__max_depth'], min_samples_split=dt_best_params['model__min_samples_split']))\n",
    "])\n",
    "final_fitted_dt = q4e_dt_pipeline.fit(oz_train_X, oz_train_y)\n",
    "print(f\"Decision tree: {np.sqrt(mean_squared_error(oz_test_y, final_fitted_dt.predict(oz_test_X)))}\")\n",
    "\n",
    "### Part E\n",
    "# I recommend the Decision Tree. Even though the KNN model achieved greater accuracy on \n",
    "# the test set, interpreting a decision tree is much easier. A decision tree essentially \n",
    "# converts the entire process into a number of \"if-else\" statements in a flowchart like \n",
    "# diagram which the planner could use to understand why the model made the decisions it \n",
    "# made at each node.\n"
   ]
  }
 ],
 "metadata": {
  "kernelspec": {
   "display_name": ".venv",
   "language": "python",
   "name": "python3"
  },
  "language_info": {
   "codemirror_mode": {
    "name": "ipython",
    "version": 3
   },
   "file_extension": ".py",
   "mimetype": "text/x-python",
   "name": "python",
   "nbconvert_exporter": "python",
   "pygments_lexer": "ipython3",
   "version": "3.11.13"
  }
 },
 "nbformat": 4,
 "nbformat_minor": 5
}
